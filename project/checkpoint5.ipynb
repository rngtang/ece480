{
 "cells": [
  {
   "cell_type": "code",
   "execution_count": 1,
   "metadata": {},
   "outputs": [],
   "source": [
    "# Libraries\n",
    "import matplotlib.pyplot as plt\n",
    "from sklearn.mixture import GaussianMixture\n",
    "import numpy as np"
   ]
  },
  {
   "cell_type": "code",
   "execution_count": 2,
   "metadata": {},
   "outputs": [],
   "source": [
    "# Function to read the data\n",
    "def read_mfcc_data(file_path):\n",
    "    mfcc_blocks = []\n",
    "    current_block = []\n",
    "    with open(file_path, 'r') as file:\n",
    "        # Iterates over each line in the file\n",
    "        for line in file:\n",
    "            \n",
    "            # If the current block is finished, append it to the list of blocks\n",
    "            if line.strip() == '':\n",
    "                if current_block:\n",
    "                    mfcc_blocks.append(current_block)\n",
    "                    current_block = []\n",
    "            else:\n",
    "                # Convert each line to a list of floats (MFCC coefficients)\n",
    "                frame = list(map(float, line.strip().split()))\n",
    "                current_block.append(frame)\n",
    "        # Append the last block if it ends without a blank line\n",
    "        if current_block:\n",
    "            mfcc_blocks.append(current_block)\n",
    "    return mfcc_blocks"
   ]
  },
  {
   "cell_type": "code",
   "execution_count": 3,
   "metadata": {},
   "outputs": [],
   "source": [
    "# Function to get the blocks for a desired digit\n",
    "def get_digit_blocks(mfcc_blocks, digit):\n",
    "    start = digit * 660\n",
    "    end = start + 660\n",
    "    \n",
    "    return mfcc_blocks[start:end]"
   ]
  },
  {
   "cell_type": "code",
   "execution_count": null,
   "metadata": {},
   "outputs": [],
   "source": []
  }
 ],
 "metadata": {
  "kernelspec": {
   "display_name": ".venv",
   "language": "python",
   "name": "python3"
  },
  "language_info": {
   "codemirror_mode": {
    "name": "ipython",
    "version": 3
   },
   "file_extension": ".py",
   "mimetype": "text/x-python",
   "name": "python",
   "nbconvert_exporter": "python",
   "pygments_lexer": "ipython3",
   "version": "3.10.12"
  }
 },
 "nbformat": 4,
 "nbformat_minor": 2
}
