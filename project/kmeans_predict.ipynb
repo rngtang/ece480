{
 "cells": [
  {
   "cell_type": "code",
   "execution_count": 17,
   "metadata": {},
   "outputs": [],
   "source": [
    "# Libraries\n",
    "import matplotlib.pyplot as plt\n",
    "import numpy as np\n",
    "from sklearn.cluster import KMeans\n",
    "from scipy.stats import multivariate_normal"
   ]
  },
  {
   "cell_type": "code",
   "execution_count": 18,
   "metadata": {},
   "outputs": [],
   "source": [
    "# Function to read the data\n",
    "def read_mfcc_data(file_path):\n",
    "    mfcc_blocks = []\n",
    "    current_block = []\n",
    "    with open(file_path, 'r') as file:\n",
    "        # Iterates over each line in the file\n",
    "        for line in file:\n",
    "            \n",
    "            # If the current block is finished, append it to the list of blocks\n",
    "            if line.strip() == '':\n",
    "                if current_block:\n",
    "                    mfcc_blocks.append(current_block)\n",
    "                    current_block = []\n",
    "            else:\n",
    "                # Convert each line to a list of floats (MFCC coefficients)\n",
    "                frame = list(map(float, line.strip().split()))\n",
    "                current_block.append(frame)\n",
    "        # Append the last block if it ends without a blank line\n",
    "        if current_block:\n",
    "            mfcc_blocks.append(current_block)\n",
    "    return mfcc_blocks"
   ]
  },
  {
   "cell_type": "code",
   "execution_count": 19,
   "metadata": {},
   "outputs": [],
   "source": [
    "# Function to get the blocks for a desired digit\n",
    "def get_digit_blocks(mfcc_blocks, digit):\n",
    "    start = digit * 660\n",
    "    end = start + 660\n",
    "    \n",
    "    return mfcc_blocks[start:end]"
   ]
  },
  {
   "cell_type": "code",
   "execution_count": 20,
   "metadata": {},
   "outputs": [],
   "source": [
    "# Reads the data\n",
    "file_path = './data/Train_Arabic_Digit.txt'\n",
    "mfcc_blocks = read_mfcc_data(file_path)"
   ]
  },
  {
   "cell_type": "code",
   "execution_count": 21,
   "metadata": {},
   "outputs": [],
   "source": [
    "# Initialize lists to store means and covariances for each digit\n",
    "means_all = []\n",
    "covariances_all = []\n",
    "\n",
    "gmm_components = {\n",
    "    0: 3, 1: 3, 2: 5, 3: 4, 4: 3, 5: 3, 6: 3, 7: 4, 8: 4, 9: 3\n",
    "}"
   ]
  },
  {
   "cell_type": "code",
   "execution_count": 22,
   "metadata": {},
   "outputs": [],
   "source": [
    "# Train KMeans and calculate covariances for each digit\n",
    "for digit in range(10):\n",
    "    # Gets the data from a specific digit\n",
    "    digit_data = np.vstack(get_digit_blocks(mfcc_blocks, digit))\n",
    "    n_clusters = gmm_components[digit]\n",
    "    \n",
    "    # Train k-means\n",
    "    kmeans = KMeans(n_clusters=n_clusters, random_state=0).fit(digit_data)\n",
    "    # Calculate mean vectors\n",
    "    means = kmeans.cluster_centers_\n",
    "    \n",
    "    # Calculate covariance matrices\n",
    "    covariances = []\n",
    "    for cluster in range(n_clusters):\n",
    "        cluster_data = digit_data[kmeans.labels_ == cluster]\n",
    "        covariance = np.cov(cluster_data, rowvar=False)\n",
    "        covariances.append(covariance)\n",
    "\n",
    "    means_all.append(means)\n",
    "    covariances_all.append(covariances)"
   ]
  },
  {
   "cell_type": "code",
   "execution_count": null,
   "metadata": {},
   "outputs": [],
   "source": [
    "def compute_likelihood(block, means, covariances):\n",
    "    # Compute the likelihood of the block for given GMM parameters\n",
    "    total_likelihood = 0\n",
    "    for frame in block:\n",
    "        frame_likelihoods = []\n",
    "        for mean, cov in zip(means, covariances):\n",
    "            try:\n",
    "                likelihood = multivariate_normal(mean=mean, cov=cov).pdf(frame)\n",
    "            except np.linalg.LinAlgError as e:\n",
    "                likelihood = 0\n",
    "            frame_likelihoods.append(likelihood)\n",
    "        # Check for numerical stability\n",
    "        \n",
    "        \n",
    "        total_likelihood += np.log(np.sum(frame_likelihoods) + 1e-9)  # Add a small value for numerical stability\n",
    "    return total_likelihood"
   ]
  }
 ],
 "metadata": {
  "kernelspec": {
   "display_name": ".venv",
   "language": "python",
   "name": "python3"
  },
  "language_info": {
   "codemirror_mode": {
    "name": "ipython",
    "version": 3
   },
   "file_extension": ".py",
   "mimetype": "text/x-python",
   "name": "python",
   "nbconvert_exporter": "python",
   "pygments_lexer": "ipython3",
   "version": "3.10.12"
  }
 },
 "nbformat": 4,
 "nbformat_minor": 2
}
